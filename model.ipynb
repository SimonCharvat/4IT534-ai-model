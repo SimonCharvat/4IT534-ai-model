{
 "cells": [
  {
   "cell_type": "markdown",
   "metadata": {},
   "source": []
  },
  {
   "cell_type": "code",
   "execution_count": 6,
   "metadata": {},
   "outputs": [],
   "source": [
    "import kagglehub\n",
    "import re"
   ]
  },
  {
   "cell_type": "code",
   "execution_count": 18,
   "metadata": {},
   "outputs": [
    {
     "name": "stdout",
     "output_type": "stream",
     "text": [
      "Path to dataset files: C:\\Users\\herde\\.cache\\kagglehub\\datasets\\abdallahalidev\\plantvillage-dataset\\versions\\3\n"
     ]
    }
   ],
   "source": [
    "# Download latest version\n",
    "path = kagglehub.dataset_download(\"abdallahalidev/plantvillage-dataset\")\n",
    "\n",
    "print(\"Path to dataset files:\", path)\n",
    "path = path + r\"\\plantvillage dataset\" + r\"\\color\""
   ]
  },
  {
   "cell_type": "code",
   "execution_count": 19,
   "metadata": {},
   "outputs": [
    {
     "name": "stdout",
     "output_type": "stream",
     "text": [
      "Dataset successfully split!\n"
     ]
    }
   ],
   "source": [
    "import os\n",
    "import shutil\n",
    "import random\n",
    "\n",
    "# Paths\n",
    "original_dataset_dir = path  # Path to the original dataset\n",
    "output_base_dir = 'split_dataset'  # Output directory for train, val, test\n",
    "\n",
    "# Create train, val, test directories\n",
    "splits = ['train', 'validation', 'test']\n",
    "for split in splits:\n",
    "    split_path = os.path.join(output_base_dir, split)\n",
    "    os.makedirs(split_path, exist_ok=True)\n",
    "\n",
    "# Split ratios\n",
    "train_ratio = 0.7\n",
    "val_ratio = 0.2\n",
    "test_ratio = 0.1\n",
    "\n",
    "# Split images\n",
    "for class_name in os.listdir(original_dataset_dir):\n",
    "    class_path = os.path.join(original_dataset_dir, class_name)\n",
    "    if not os.path.isdir(class_path):\n",
    "        continue\n",
    "\n",
    "    # Create class directories in each split folder\n",
    "    for split in splits:\n",
    "        os.makedirs(os.path.join(output_base_dir, split, class_name), exist_ok=True)\n",
    "\n",
    "    # Get all image files\n",
    "    images = [f for f in os.listdir(class_path) if os.path.isfile(os.path.join(class_path, f))]\n",
    "    random.shuffle(images)\n",
    "\n",
    "    # Calculate split sizes\n",
    "    total_images = len(images)\n",
    "    train_size = int(total_images * train_ratio)\n",
    "    val_size = int(total_images * val_ratio)\n",
    "\n",
    "    # Assign images to splits\n",
    "    train_images = images[:train_size]\n",
    "    val_images = images[train_size:train_size + val_size]\n",
    "    test_images = images[train_size + val_size:]\n",
    "\n",
    "    # Function to copy images\n",
    "    def copy_images(image_list, split):\n",
    "        for image in image_list:\n",
    "            src = os.path.join(class_path, image)\n",
    "            dest = os.path.join(output_base_dir, split, class_name, image)\n",
    "            shutil.copy(src, dest)\n",
    "\n",
    "    # Copy images to respective folders\n",
    "    copy_images(train_images, 'train')\n",
    "    copy_images(val_images, 'validation')\n",
    "    copy_images(test_images, 'test')\n",
    "\n",
    "print(\"Dataset successfully split!\")\n"
   ]
  },
  {
   "cell_type": "code",
   "execution_count": 12,
   "metadata": {},
   "outputs": [
    {
     "name": "stdout",
     "output_type": "stream",
     "text": [
      "('Corn maize', False, 'Northern Leaf Blight')\n",
      "('Cherry including sour', False, 'Powdery mildew')\n",
      "('Blueberry', True, 'healthy')\n",
      "('Tomato', False, 'Spider mites')\n"
     ]
    }
   ],
   "source": [
    "# Extracts information from the label\n",
    "def parse_label(label):\n",
    "    # Split the label into the flower name and disease part\n",
    "    label = label.split(\" \")[0]\n",
    "    parts = label.split(\"___\")\n",
    "    \n",
    "    # Extract the flower name and make it human-readable\n",
    "    flower_name = parts[0].replace(\"_\", \" \").replace(\"(\", \"\").replace(\")\", \"\")\n",
    "    \n",
    "    # Determine if the label indicates a healthy plant\n",
    "    is_healthy = \"healthy\" in label\n",
    "    \n",
    "    # Extract the disease name or mark it as healthy\n",
    "    if is_healthy:\n",
    "        disease = \"healthy\"\n",
    "    else:\n",
    "        disease = parts[1].replace(\"_\", \" \").replace(\"(\", \"\").replace(\")\", \"\")\n",
    "    \n",
    "    return flower_name, is_healthy, disease\n",
    "\n",
    "# Example usage\n",
    "\n",
    "print(parse_label(\"Corn_(maize)___Northern_Leaf_Blight\"))\n",
    "print(parse_label(\"Cherry_(including_sour)___Powdery_mildew\"))\n",
    "print(parse_label(\"Blueberry___healthy\"))\n",
    "print(parse_label(\"Tomato___Spider_mites Two-spotted_spider_mite\"))\n",
    "\n",
    "\n"
   ]
  }
 ],
 "metadata": {
  "kernelspec": {
   "display_name": "Python 3",
   "language": "python",
   "name": "python3"
  },
  "language_info": {
   "codemirror_mode": {
    "name": "ipython",
    "version": 3
   },
   "file_extension": ".py",
   "mimetype": "text/x-python",
   "name": "python",
   "nbconvert_exporter": "python",
   "pygments_lexer": "ipython3",
   "version": "3.12.0"
  }
 },
 "nbformat": 4,
 "nbformat_minor": 2
}
